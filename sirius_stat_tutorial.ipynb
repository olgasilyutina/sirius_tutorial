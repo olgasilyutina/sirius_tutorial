{
  "nbformat": 4,
  "nbformat_minor": 0,
  "metadata": {
    "colab": {
      "name": "sirius_stat_tutorial.ipynb",
      "provenance": [],
      "collapsed_sections": [],
      "authorship_tag": "ABX9TyNZPFKXs277bWhkEVSwtTgf",
      "include_colab_link": true
    },
    "kernelspec": {
      "name": "python3",
      "display_name": "Python 3"
    }
  },
  "cells": [
    {
      "cell_type": "markdown",
      "metadata": {
        "id": "view-in-github",
        "colab_type": "text"
      },
      "source": [
        "<a href=\"https://colab.research.google.com/github/olgasilyutina/sirius_tutorial/blob/master/sirius_stat_tutorial.ipynb\" target=\"_parent\"><img src=\"https://colab.research.google.com/assets/colab-badge.svg\" alt=\"Open In Colab\"/></a>"
      ]
    },
    {
      "cell_type": "code",
      "metadata": {
        "id": "gABNnC6O2U1z",
        "colab_type": "code",
        "colab": {}
      },
      "source": [
        "# Подгружаем библиотеки для работы\n",
        "% matplotlib inline\n",
        "from random import seed\n",
        "from random import gauss\n",
        "import numpy as np\n",
        "import matplotlib.pyplot as plt\n",
        "import pandas as pd\n",
        "from random import randint\n",
        "import warnings\n",
        "warnings.filterwarnings('ignore')"
      ],
      "execution_count": 0,
      "outputs": []
    },
    {
      "cell_type": "code",
      "metadata": {
        "id": "nIdSu2zF_FyQ",
        "colab_type": "code",
        "colab": {}
      },
      "source": [
        "# Устанавливаем seed для того, чтобы получать одни и те же значения при случайной генерации\n",
        "seed(1)\n",
        "# Генерируем распределение Пуассона - это наша генеральная совокупность\n",
        "clicks = np.random.poisson(1.0, 10000000)"
      ],
      "execution_count": 0,
      "outputs": []
    },
    {
      "cell_type": "code",
      "metadata": {
        "id": "bVnSUoiZ_J7k",
        "colab_type": "code",
        "outputId": "dd539bf2-5149-4939-8d47-0470d4afd610",
        "colab": {
          "base_uri": "https://localhost:8080/",
          "height": 297
        }
      },
      "source": [
        "fig = plt.hist(clicks, bins=13, color='blue', edgecolor=None, alpha=0.5)\n",
        "plt.axvline(clicks.mean(), color='k', linestyle='--', linewidth=2)\n",
        "plt.title('Распределение кликов по рекламе в ленте')\n",
        "plt.tight_layout()"
      ],
      "execution_count": 0,
      "outputs": [
        {
          "output_type": "display_data",
          "data": {
            "image/png": "[encoded data removed]",
            "text/plain": [
              "<Figure size 432x288 with 1 Axes>"
            ]
          },
          "metadata": {
            "tags": []
          }
        }
      ]
    },
    {
      "cell_type": "code",
      "metadata": {
        "id": "nWnYzR9u_MR_",
        "colab_type": "code",
        "colab": {}
      },
      "source": [
        "# Возьмем 1% от нашей генеральной совокупности \n",
        "sample_size = int(round(len(clicks)*1/100, 0))\n",
        "clicks_sample = np.random.choice(clicks, sample_size, replace=False)"
      ],
      "execution_count": 0,
      "outputs": []
    },
    {
      "cell_type": "code",
      "metadata": {
        "id": "17x3CPGOEbUs",
        "colab_type": "code",
        "outputId": "974bd151-1295-40c9-a863-74e328678cd1",
        "colab": {
          "base_uri": "https://localhost:8080/",
          "height": 34
        }
      },
      "source": [
        "len(clicks_sample)"
      ],
      "execution_count": 0,
      "outputs": [
        {
          "output_type": "execute_result",
          "data": {
            "text/plain": [
              "100000"
            ]
          },
          "metadata": {
            "tags": []
          },
          "execution_count": 76
        }
      ]
    },
    {
      "cell_type": "code",
      "metadata": {
        "id": "SgbvtR1KFR7l",
        "colab_type": "code",
        "outputId": "f26451e4-ced2-4ca1-f5a8-ba7a446a144d",
        "colab": {
          "base_uri": "https://localhost:8080/",
          "height": 297
        }
      },
      "source": [
        "fig = plt.hist(clicks_sample, bins=10, color='blue', edgecolor=None, alpha=0.3)\n",
        "plt.axvline(clicks_sample.mean(), color='k', linestyle='--', linewidth=2)\n",
        "plt.title('Распределение кликов по рекламе в ленте\\nу 1% случайных пользователей')\n",
        "plt.tight_layout()"
      ],
      "execution_count": 0,
      "outputs": [
        {
          "output_type": "display_data",
          "data": {
            "image/png": "[encoded data removed]",
            "text/plain": [
              "<Figure size 432x288 with 1 Axes>"
            ]
          },
          "metadata": {
            "tags": []
          }
        }
      ]
    },
    {
      "cell_type": "code",
      "metadata": {
        "id": "6sb3QdY8FiJp",
        "colab_type": "code",
        "colab": {}
      },
      "source": [
        "# Разделим полученную выборку на тест и контроль (группы A и B)"
      ],
      "execution_count": 0,
      "outputs": []
    },
    {
      "cell_type": "code",
      "metadata": {
        "id": "e4ufS0aQGfsf",
        "colab_type": "code",
        "colab": {}
      },
      "source": [
        "def partition (list_in, n):\n",
        "    list_in = random.sample(list_in, len(list_in)) \n",
        "    return [list_in[i::n] for i in range(n)]"
      ],
      "execution_count": 0,
      "outputs": []
    },
    {
      "cell_type": "code",
      "metadata": {
        "id": "22eLUO3AGyrO",
        "colab_type": "code",
        "colab": {}
      },
      "source": [
        "control, test = partition(list(clicks_sample), 2)"
      ],
      "execution_count": 0,
      "outputs": []
    },
    {
      "cell_type": "code",
      "metadata": {
        "id": "7NKzzpO2Uxg2",
        "colab_type": "code",
        "outputId": "cc316430-40e9-4c20-d8be-9e4edc1400fa",
        "colab": {
          "base_uri": "https://localhost:8080/",
          "height": 34
        }
      },
      "source": [
        "len(control)"
      ],
      "execution_count": 0,
      "outputs": [
        {
          "output_type": "execute_result",
          "data": {
            "text/plain": [
              "50000"
            ]
          },
          "metadata": {
            "tags": []
          },
          "execution_count": 197
        }
      ]
    },
    {
      "cell_type": "code",
      "metadata": {
        "id": "tb6S7pu8UzqQ",
        "colab_type": "code",
        "outputId": "b09192e3-2299-4af2-8fc4-7fa86a839c95",
        "colab": {
          "base_uri": "https://localhost:8080/",
          "height": 34
        }
      },
      "source": [
        "len(test)"
      ],
      "execution_count": 0,
      "outputs": [
        {
          "output_type": "execute_result",
          "data": {
            "text/plain": [
              "50000"
            ]
          },
          "metadata": {
            "tags": []
          },
          "execution_count": 198
        }
      ]
    },
    {
      "cell_type": "code",
      "metadata": {
        "id": "ESSTNrj6G5sX",
        "colab_type": "code",
        "outputId": "bc3d3948-7c07-4afc-e04f-13b03df30312",
        "colab": {
          "base_uri": "https://localhost:8080/",
          "height": 297
        }
      },
      "source": [
        "fig = plt.hist(test, bins=10, color='green', edgecolor=None, alpha=0.3)\n",
        "plt.axvline(clicks_sample.mean(), color='k', linestyle='--', linewidth=2)\n",
        "plt.title('Распределение кликов по рекламе в ленте в тестовой группе')\n",
        "plt.tight_layout()"
      ],
      "execution_count": 0,
      "outputs": [
        {
          "output_type": "display_data",
          "data": {
            "image/png": "[encoded data removed]",
            "text/plain": [
              "<Figure size 432x288 with 1 Axes>"
            ]
          },
          "metadata": {
            "tags": []
          }
        }
      ]
    },
    {
      "cell_type": "code",
      "metadata": {
        "id": "EJQOJPLxUYz4",
        "colab_type": "code",
        "outputId": "54a4f2db-9a10-4df1-ca2d-0cb4ad877da0",
        "colab": {
          "base_uri": "https://localhost:8080/",
          "height": 34
        }
      },
      "source": [
        "np.mean(test)"
      ],
      "execution_count": 0,
      "outputs": [
        {
          "output_type": "execute_result",
          "data": {
            "text/plain": [
              "0.99844"
            ]
          },
          "metadata": {
            "tags": []
          },
          "execution_count": 200
        }
      ]
    },
    {
      "cell_type": "code",
      "metadata": {
        "id": "yhaRe_1XIdd1",
        "colab_type": "code",
        "outputId": "97315359-2640-4389-879d-a340b8450b67",
        "colab": {
          "base_uri": "https://localhost:8080/",
          "height": 297
        }
      },
      "source": [
        "fig = plt.hist(control, bins=10, color='grey', edgecolor=None, alpha=0.3)\n",
        "plt.axvline(clicks_sample.mean(), color='k', linestyle='--', linewidth=2)\n",
        "plt.title('Распределение кликов по рекламе в ленте в контрольной группе')\n",
        "plt.tight_layout()"
      ],
      "execution_count": 0,
      "outputs": [
        {
          "output_type": "display_data",
          "data": {
            "image/png": "[encoded data removed]",
            "text/plain": [
              "<Figure size 432x288 with 1 Axes>"
            ]
          },
          "metadata": {
            "tags": []
          }
        }
      ]
    },
    {
      "cell_type": "code",
      "metadata": {
        "id": "-ej7OkYDUiA3",
        "colab_type": "code",
        "outputId": "533f7940-8842-408d-ef62-b9ad395c8d5c",
        "colab": {
          "base_uri": "https://localhost:8080/",
          "height": 34
        }
      },
      "source": [
        "np.mean(control)"
      ],
      "execution_count": 0,
      "outputs": [
        {
          "output_type": "execute_result",
          "data": {
            "text/plain": [
              "0.99788"
            ]
          },
          "metadata": {
            "tags": []
          },
          "execution_count": 202
        }
      ]
    },
    {
      "cell_type": "code",
      "metadata": {
        "id": "5ZZ3TQsDXyZI",
        "colab_type": "code",
        "colab": {}
      },
      "source": [
        "users = list(range(1,50001))\n",
        "users = [x+1000000 for x in users]"
      ],
      "execution_count": 0,
      "outputs": []
    },
    {
      "cell_type": "markdown",
      "metadata": {
        "id": "NfsCer10daHD",
        "colab_type": "text"
      },
      "source": [
        "## **Фича 1**\n",
        "\n",
        "*Команда бэкенда поменяла алгоритм вставки рекламы в ленту и стала вставлять формат видео, который привлекает больше кликов, на первые позиции в ленте*\n",
        "\n",
        "## **Альтернативная гипотеза** \n",
        "\n",
        "Среднее количество кликов в тестовой группе выше, чем среднее количество кликов в контрольной группе\n",
        "\n",
        "## **Нулевая гипотеза**\n",
        "\n",
        "Среднее количество кликов в тестовой группе не отличается от тестового количества кликов в контрольной группе"
      ]
    },
    {
      "cell_type": "code",
      "metadata": {
        "id": "kCRDVx5DWjo1",
        "colab_type": "code",
        "colab": {}
      },
      "source": [
        "# Генерируем датасет будто мы применили нашу фичу к данным \n",
        "hyp_1 = pd.DataFrame({'user': users, 'test': test, 'control': control})"
      ],
      "execution_count": 0,
      "outputs": []
    },
    {
      "cell_type": "code",
      "metadata": {
        "id": "0stYFkLJbabl",
        "colab_type": "code",
        "colab": {}
      },
      "source": [
        "video_uplift = []\n",
        "for _ in range(0, len(hyp_1['test'])):\n",
        "\tvalue = randint(0, 1)\n",
        "\tvideo_uplift.append(value)"
      ],
      "execution_count": 0,
      "outputs": []
    },
    {
      "cell_type": "code",
      "metadata": {
        "id": "qQkvxfNXZFPy",
        "colab_type": "code",
        "colab": {}
      },
      "source": [
        "hyp_1['video_test'] = round(hyp_1['test']*0.6, 0).astype(int) + video_uplift\n",
        "hyp_1['image_test'] = round(hyp_1['test']*0.3, 0).astype(int)\n",
        "hyp_1['lead_form_test'] = round(hyp_1['test']*0.1, 0).astype(int)"
      ],
      "execution_count": 0,
      "outputs": []
    },
    {
      "cell_type": "code",
      "metadata": {
        "id": "7GxeWI9razqh",
        "colab_type": "code",
        "colab": {}
      },
      "source": [
        "hyp_1['video_control'] = round(hyp_1['control']*0.3, 0).astype(int)\n",
        "hyp_1['image_control'] = round(hyp_1['control']*0.6, 0).astype(int)\n",
        "hyp_1['lead_form_control'] = round(hyp_1['control']*0.1, 0).astype(int)"
      ],
      "execution_count": 0,
      "outputs": []
    },
    {
      "cell_type": "code",
      "metadata": {
        "id": "koVrqeQUdLiR",
        "colab_type": "code",
        "colab": {}
      },
      "source": [
        "hyp_1 = hyp_1.drop(['control', 'test'], axis = 1)"
      ],
      "execution_count": 0,
      "outputs": []
    },
    {
      "cell_type": "code",
      "metadata": {
        "id": "TvmAuEsjehI4",
        "colab_type": "code",
        "colab": {}
      },
      "source": [
        "hyp_1['control'] = hyp_1['video_control'] + hyp_1['image_control'] + hyp_1['lead_form_control']\n",
        "hyp_1['test'] = hyp_1['video_test'] + hyp_1['image_test'] + hyp_1['lead_form_test']"
      ],
      "execution_count": 0,
      "outputs": []
    },
    {
      "cell_type": "code",
      "metadata": {
        "id": "RjS0ann_MvO8",
        "colab_type": "code",
        "outputId": "d580e92b-dd72-4a5a-94e6-1d60c501be0c",
        "colab": {
          "base_uri": "https://localhost:8080/",
          "height": 34
        }
      },
      "source": [
        "print('Среднее количество кликов в тестовой группе равно: ' + str(hyp_1['test'].mean()))"
      ],
      "execution_count": 0,
      "outputs": [
        {
          "output_type": "stream",
          "text": [
            "Среднее количество кликов в тестовой группе равно: 1.4857\n"
          ],
          "name": "stdout"
        }
      ]
    },
    {
      "cell_type": "code",
      "metadata": {
        "id": "6KKIOQ7VPyga",
        "colab_type": "code",
        "outputId": "6d215ecd-7bf6-49b9-831b-2b5c6998d004",
        "colab": {
          "base_uri": "https://localhost:8080/",
          "height": 34
        }
      },
      "source": [
        "print('Среднее количество кликов в контрольной группе равно: ' + str(hyp_1['control'].mean()))"
      ],
      "execution_count": 0,
      "outputs": [
        {
          "output_type": "stream",
          "text": [
            "Среднее количество кликов в контрольной группе равно: 0.9833\n"
          ],
          "name": "stdout"
        }
      ]
    },
    {
      "cell_type": "code",
      "metadata": {
        "id": "P-H0Qu8lgxQQ",
        "colab_type": "code",
        "colab": {}
      },
      "source": [
        "# Проверим статистическую значимость результатов при помощи метода bootstrap\n",
        "# Для этого получим распределение средних значений в тестовой группе и найдем доверительный интервал"
      ],
      "execution_count": 0,
      "outputs": []
    },
    {
      "cell_type": "code",
      "metadata": {
        "id": "KrZpttz2QLPy",
        "colab_type": "code",
        "colab": {}
      },
      "source": [
        "array = hyp_1['test'] - hyp_1['control']\n",
        "sample_size = 300\n",
        "permutations = 1000\n",
        "\n",
        "def bootstrap(permutations, array, sample_size):\n",
        "  sample_mean = []\n",
        "  for _ in range(permutations): \n",
        "      sample_n = np.random.choice(array, size=sample_size)\n",
        "      sample_mean.append(sample_n.mean())\n",
        "  return sample_mean"
      ],
      "execution_count": 0,
      "outputs": []
    },
    {
      "cell_type": "code",
      "metadata": {
        "id": "JfX41VYx5vTK",
        "colab_type": "code",
        "colab": {}
      },
      "source": [
        "sample_mean = bootstrap(permutations, array, sample_size)"
      ],
      "execution_count": 0,
      "outputs": []
    },
    {
      "cell_type": "code",
      "metadata": {
        "id": "IeeuJZEJgN52",
        "colab_type": "code",
        "outputId": "32196b69-6dfc-423d-e333-b65064663298",
        "colab": {
          "base_uri": "https://localhost:8080/",
          "height": 297
        }
      },
      "source": [
        "fig = plt.hist(sample_mean, bins=10, color='steelblue', edgecolor=None, alpha=0.4)\n",
        "plt.axvline(0, color='k', linestyle='--', linewidth=1)\n",
        "plt.axvline(np.quantile(sample_mean, 0.05), color='steelblue', linestyle='--', linewidth=1)\n",
        "plt.axvline(np.quantile(sample_mean, 0.95), color='steelblue', linestyle='--', linewidth=1)\n",
        "plt.title('Распределение средних разницы между тестом и контролем (1)')\n",
        "plt.tight_layout()"
      ],
      "execution_count": 370,
      "outputs": [
        {
          "output_type": "display_data",
          "data": {
            "image/png": "[encoded data removed]",
            "text/plain": [
              "<Figure size 432x288 with 1 Axes>"
            ]
          },
          "metadata": {
            "tags": []
          }
        }
      ]
    },
    {
      "cell_type": "code",
      "metadata": {
        "id": "cBk8uEeth06y",
        "colab_type": "code",
        "outputId": "dbd28277-52b5-4002-c4ae-59882814e98a",
        "colab": {
          "base_uri": "https://localhost:8080/",
          "height": 34
        }
      },
      "source": [
        "print('Ожидаемая разница между тестом и контролем равна  ' + str(hyp_1['test'].mean()) \\\n",
        "      + ' с доверительным интервалом (' + str(round(np.quantile(sample_mean, 0.05), 2)) + ', ' \\\n",
        "      + str(round(np.quantile(sample_mean, 0.95), 2)) + ')')"
      ],
      "execution_count": 352,
      "outputs": [
        {
          "output_type": "stream",
          "text": [
            "Ожидаемая разница между тестом и контролем равна  1.4857 с доверительным интервалом (0.37, 0.64)\n"
          ],
          "name": "stdout"
        }
      ]
    },
    {
      "cell_type": "code",
      "metadata": {
        "id": "fT_8FB4LkGnr",
        "colab_type": "code",
        "outputId": "8e9a5b50-491d-478a-b28e-5e09952f3879",
        "colab": {
          "base_uri": "https://localhost:8080/",
          "height": 297
        }
      },
      "source": [
        "plt.hist(hyp_1['video_test'], bins=4, color='pink', edgecolor=None, alpha=0.4, label='video')\n",
        "plt.hist(hyp_1['image_test'], bins=4, color='green', edgecolor=None, alpha=0.4, label='image')\n",
        "plt.hist(hyp_1['lead_form_test'], bins=4, color='blue', edgecolor=None, alpha=0.4, label='lead_form')\n",
        "plt.axvline(hyp_1['video_test'].mean(), color='pink', linestyle='-', linewidth=2)\n",
        "plt.axvline(hyp_1['image_test'].mean(), color='green', linestyle='-', linewidth=2)\n",
        "plt.axvline(hyp_1['lead_form_test'].mean(), color='blue', linestyle='-', linewidth=2)\n",
        "plt.axvline(hyp_1['test'].mean(), color='k', linestyle=':', linewidth=3)\n",
        "plt.title('Распределение кликов по рекламе в ленте в тестовой группе\\nс видео форматом в начале ленты (гипотеза 1)')\n",
        "plt.legend(loc=\"upper right\")\n",
        "plt.tight_layout()"
      ],
      "execution_count": 0,
      "outputs": [
        {
          "output_type": "display_data",
          "data": {
            "image/png": "[encoded data removed]",
            "text/plain": [
              "<Figure size 432x288 with 1 Axes>"
            ]
          },
          "metadata": {
            "tags": []
          }
        }
      ]
    },
    {
      "cell_type": "markdown",
      "metadata": {
        "id": "rQma3o6QlDL1",
        "colab_type": "text"
      },
      "source": [
        "### Будем применять изменения на всех пользователей?\n",
        "\n"
      ]
    },
    {
      "cell_type": "markdown",
      "metadata": {
        "id": "6K42BDx8oiNe",
        "colab_type": "text"
      },
      "source": [
        "## **Фича 2**\n",
        "\n",
        "*Команда перфоманса сделала модель, которая позволяет предсказывать наиболее интересную для пользователя рекламу и вставляет ее в первую очередь*"
      ]
    },
    {
      "cell_type": "code",
      "metadata": {
        "id": "4brq5ZjClN5x",
        "colab_type": "code",
        "colab": {}
      },
      "source": [
        "hyp_2 = pd.DataFrame({'user': users, 'test': test, 'control': control})"
      ],
      "execution_count": 0,
      "outputs": []
    },
    {
      "cell_type": "code",
      "metadata": {
        "id": "nsutInhS4JlP",
        "colab_type": "code",
        "colab": {}
      },
      "source": [
        "uplifts = [1] * int(round((len(hyp_2['test'])*1)/100, 0))\n",
        "no_diffs = [0] * int(round((len(hyp_2['test'])*99)/100, 0))"
      ],
      "execution_count": 0,
      "outputs": []
    },
    {
      "cell_type": "code",
      "metadata": {
        "id": "Abt294B249VD",
        "colab_type": "code",
        "colab": {}
      },
      "source": [
        "uplifts = uplifts + no_diffs\n",
        "uplifts = random.sample(uplifts, len(uplifts))"
      ],
      "execution_count": 0,
      "outputs": []
    },
    {
      "cell_type": "code",
      "metadata": {
        "id": "pW4CBgu34Rs6",
        "colab_type": "code",
        "colab": {}
      },
      "source": [
        "hyp_2['test'] = hyp_2['test'] + uplifts"
      ],
      "execution_count": 0,
      "outputs": []
    },
    {
      "cell_type": "code",
      "metadata": {
        "id": "uUc4WSuvp666",
        "colab_type": "code",
        "colab": {
          "base_uri": "https://localhost:8080/",
          "height": 34
        },
        "outputId": "7db81dd4-70fc-4ad4-ec68-100a50bfb176"
      },
      "source": [
        "print('Среднее количество кликов в тестовой группе равно: ' + str(hyp_2['test'].mean()))"
      ],
      "execution_count": 336,
      "outputs": [
        {
          "output_type": "stream",
          "text": [
            "Среднее количество кликов в тестовой группе равно: 1.00844\n"
          ],
          "name": "stdout"
        }
      ]
    },
    {
      "cell_type": "code",
      "metadata": {
        "id": "LAvLd0Vop8Db",
        "colab_type": "code",
        "colab": {
          "base_uri": "https://localhost:8080/",
          "height": 34
        },
        "outputId": "168beefc-07ec-4add-f068-b7d52d15f0ad"
      },
      "source": [
        "print('Среднее количество кликов в контрольной группе равно: ' + str(hyp_2['control'].mean()))"
      ],
      "execution_count": 337,
      "outputs": [
        {
          "output_type": "stream",
          "text": [
            "Среднее количество кликов в контрольной группе равно: 0.99788\n"
          ],
          "name": "stdout"
        }
      ]
    },
    {
      "cell_type": "code",
      "metadata": {
        "id": "6n1PmD5n561T",
        "colab_type": "code",
        "colab": {}
      },
      "source": [
        "array_2 = hyp_2['test'] - hyp_2['control']"
      ],
      "execution_count": 0,
      "outputs": []
    },
    {
      "cell_type": "code",
      "metadata": {
        "id": "Sv54Hq_E5STK",
        "colab_type": "code",
        "colab": {}
      },
      "source": [
        "sample_mean_2 = bootstrap(permutations, array_2, sample_size)"
      ],
      "execution_count": 0,
      "outputs": []
    },
    {
      "cell_type": "code",
      "metadata": {
        "id": "XsnTB9gW6Exz",
        "colab_type": "code",
        "colab": {
          "base_uri": "https://localhost:8080/",
          "height": 34
        },
        "outputId": "1eea6e5f-11f0-41de-a2a3-3351a8220370"
      },
      "source": [
        "print('Ожидаемая разница между тестом и контролем равна  ' + str(hyp_2['test'].mean()) \\\n",
        "      + ' с доверительным интервалом (' + str(round(np.quantile(sample_mean_2, 0.05), 2)) + ', ' \\\n",
        "      + str(round(np.quantile(sample_mean_2, 0.95), 2)) + ')')"
      ],
      "execution_count": 355,
      "outputs": [
        {
          "output_type": "stream",
          "text": [
            "Ожидаемая разница между тестом и контролем равна  1.00844 с доверительным интервалом (-0.12, 0.14)\n"
          ],
          "name": "stdout"
        }
      ]
    },
    {
      "cell_type": "code",
      "metadata": {
        "id": "9ZRoWH396uko",
        "colab_type": "code",
        "colab": {
          "base_uri": "https://localhost:8080/",
          "height": 297
        },
        "outputId": "191edd8b-44e0-4078-960d-3493e44bfe41"
      },
      "source": [
        "fig = plt.hist(sample_mean_2, bins=10, color='steelblue', edgecolor=None, alpha=0.4)\n",
        "plt.axvline(0, color='k', linestyle='--', linewidth=1)\n",
        "plt.axvline(np.quantile(sample_mean_2, 0.05), color='steelblue', linestyle='--', linewidth=1)\n",
        "plt.axvline(np.quantile(sample_mean_2, 0.95), color='steelblue', linestyle='--', linewidth=1)\n",
        "plt.title('Распределение средних разницы между тестом и контролем (2)')\n",
        "plt.tight_layout()"
      ],
      "execution_count": 369,
      "outputs": [
        {
          "output_type": "display_data",
          "data": {
            "image/png": "[encoded data removed]",
            "text/plain": [
              "<Figure size 432x288 with 1 Axes>"
            ]
          },
          "metadata": {
            "tags": []
          }
        }
      ]
    },
    {
      "cell_type": "markdown",
      "metadata": {
        "id": "lxpJ4Csb7EMA",
        "colab_type": "text"
      },
      "source": [
        "### Будем применять изменения на всех пользователей?\n"
      ]
    },
    {
      "cell_type": "markdown",
      "metadata": {
        "id": "H6nVPW5x7I37",
        "colab_type": "text"
      },
      "source": [
        "## **Фича 3**\n",
        "\n",
        "Команда перфоманса обновила предыдущую модель и увеличила точность предсказания"
      ]
    },
    {
      "cell_type": "code",
      "metadata": {
        "id": "9hyYc7W86-DO",
        "colab_type": "code",
        "colab": {}
      },
      "source": [
        "hyp_3 = pd.DataFrame({'user': users, 'test': test, 'control': control})"
      ],
      "execution_count": 0,
      "outputs": []
    },
    {
      "cell_type": "code",
      "metadata": {
        "id": "6MFRXivs7gFU",
        "colab_type": "code",
        "colab": {}
      },
      "source": [
        "model_uplifts = value = np.random.poisson(1, len(hyp_3['test']))"
      ],
      "execution_count": 0,
      "outputs": []
    },
    {
      "cell_type": "code",
      "metadata": {
        "id": "RwJqsgOc7oSP",
        "colab_type": "code",
        "colab": {}
      },
      "source": [
        "hyp_3['test'] = hyp_2['test'] + model_uplifts"
      ],
      "execution_count": 0,
      "outputs": []
    },
    {
      "cell_type": "code",
      "metadata": {
        "id": "rQhGo55o8AGR",
        "colab_type": "code",
        "colab": {
          "base_uri": "https://localhost:8080/",
          "height": 34
        },
        "outputId": "2671f040-2e86-4821-8b35-c13a754692da"
      },
      "source": [
        "print('Среднее количество кликов в тестовой группе равно: ' + str(hyp_3['test'].mean()))"
      ],
      "execution_count": 364,
      "outputs": [
        {
          "output_type": "stream",
          "text": [
            "Среднее количество кликов в тестовой группе равно: 2.01036\n"
          ],
          "name": "stdout"
        }
      ]
    },
    {
      "cell_type": "code",
      "metadata": {
        "id": "QUe_cHuo8ENz",
        "colab_type": "code",
        "colab": {
          "base_uri": "https://localhost:8080/",
          "height": 34
        },
        "outputId": "1219117a-3502-4ae3-ce57-f1e12665b00e"
      },
      "source": [
        "print('Среднее количество кликов в контрольной группе равно: ' + str(hyp_3['control'].mean()))"
      ],
      "execution_count": 365,
      "outputs": [
        {
          "output_type": "stream",
          "text": [
            "Среднее количество кликов в контрольной группе равно: 0.99788\n"
          ],
          "name": "stdout"
        }
      ]
    },
    {
      "cell_type": "code",
      "metadata": {
        "id": "S3pLJrfK8GpQ",
        "colab_type": "code",
        "colab": {}
      },
      "source": [
        "array_3 = hyp_3['test'] - hyp_3['control']"
      ],
      "execution_count": 0,
      "outputs": []
    },
    {
      "cell_type": "code",
      "metadata": {
        "id": "TiynVUb-8Ksb",
        "colab_type": "code",
        "colab": {}
      },
      "source": [
        "sample_mean_3 = bootstrap(permutations, array_3, sample_size)"
      ],
      "execution_count": 0,
      "outputs": []
    },
    {
      "cell_type": "code",
      "metadata": {
        "id": "OPrayO8Z8N4r",
        "colab_type": "code",
        "colab": {
          "base_uri": "https://localhost:8080/",
          "height": 34
        },
        "outputId": "34998940-1e1c-42bd-ac87-e39176e228d3"
      },
      "source": [
        "print('Ожидаемая разница между тестом и контролем равна  ' + str(hyp_3['test'].mean()) \\\n",
        "      + ' с доверительным интервалом (' + str(round(np.quantile(sample_mean_3, 0.05), 2)) + ', ' \\\n",
        "      + str(round(np.quantile(sample_mean_3, 0.95), 2)) + ')')"
      ],
      "execution_count": 368,
      "outputs": [
        {
          "output_type": "stream",
          "text": [
            "Ожидаемая разница между тестом и контролем равна  2.01036 с доверительным интервалом (0.85, 1.18)\n"
          ],
          "name": "stdout"
        }
      ]
    },
    {
      "cell_type": "code",
      "metadata": {
        "id": "0fFk_dpE8ZFp",
        "colab_type": "code",
        "colab": {
          "base_uri": "https://localhost:8080/",
          "height": 297
        },
        "outputId": "2cd07091-03e7-4814-dd5e-53c11e98ac3e"
      },
      "source": [
        "fig = plt.hist(sample_mean_3, bins=10, color='steelblue', edgecolor=None, alpha=0.4)\n",
        "plt.axvline(0, color='k', linestyle='--', linewidth=1)\n",
        "plt.axvline(np.quantile(sample_mean_3, 0.05), color='steelblue', linestyle='--', linewidth=1)\n",
        "plt.axvline(np.quantile(sample_mean_3, 0.95), color='steelblue', linestyle='--', linewidth=1)\n",
        "plt.title('Распределение средних разницы между тестом и контролем (3)')\n",
        "plt.tight_layout()"
      ],
      "execution_count": 371,
      "outputs": [
        {
          "output_type": "display_data",
          "data": {
            "image/png": "[encoded data removed]",
            "text/plain": [
              "<Figure size 432x288 with 1 Axes>"
            ]
          },
          "metadata": {
            "tags": []
          }
        }
      ]
    },
    {
      "cell_type": "markdown",
      "metadata": {
        "id": "qCrYwq1I8pFg",
        "colab_type": "text"
      },
      "source": [
        "### Будем применять изменения на всех пользователей?\n"
      ]
    },
    {
      "cell_type": "code",
      "metadata": {
        "id": "uqHLG3lK8lj7",
        "colab_type": "code",
        "colab": {}
      },
      "source": [
        ""
      ],
      "execution_count": 0,
      "outputs": []
    }
  ]
}