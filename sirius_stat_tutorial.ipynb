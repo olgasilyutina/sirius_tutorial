{
  "nbformat": 4,
  "nbformat_minor": 0,
  "metadata": {
    "colab": {
      "name": "sirius_stat_tutorial.ipynb",
      "provenance": [],
      "collapsed_sections": [],
      "authorship_tag": "ABX9TyMCBA0oaE8cn+MPH4TnCXlZ",
      "include_colab_link": true
    },
    "kernelspec": {
      "name": "python3",
      "display_name": "Python 3"
    }
  },
  "cells": [
    {
      "cell_type": "markdown",
      "metadata": {
        "id": "view-in-github",
        "colab_type": "text"
      },
      "source": [
        "<a href=\"https://colab.research.google.com/github/olgasilyutina/sirius_tutorial/blob/master/sirius_stat_tutorial.ipynb\" target=\"_parent\"><img src=\"https://colab.research.google.com/assets/colab-badge.svg\" alt=\"Open In Colab\"/></a>"
      ]
    },
    {
      "cell_type": "code",
      "metadata": {
        "id": "gABNnC6O2U1z",
        "colab_type": "code",
        "colab": {}
      },
      "source": [
        "# Подгружаем библиотеки для работы\n",
        "% matplotlib inline\n",
        "from random import seed\n",
        "from random import gauss\n",
        "import numpy as np\n",
        "import matplotlib.pyplot as plt\n",
        "import pandas as pd\n",
        "from random import randint\n",
        "import warnings\n",
        "warnings.filterwarnings('ignore')"
      ],
      "execution_count": 0,
      "outputs": []
    },
    {
      "cell_type": "code",
      "metadata": {
        "id": "nIdSu2zF_FyQ",
        "colab_type": "code",
        "colab": {}
      },
      "source": [
        "# Устанавливаем seed для того, чтобы получать одни и те же значения при случайной генерации\n",
        "seed(1)\n",
        "# Генерируем распределение Пуассона - это наша генеральная совокупность\n",
        "clicks = np.random.poisson(1.0, 10000000)"
      ],
      "execution_count": 0,
      "outputs": []
    },
    {
      "cell_type": "code",
      "metadata": {
        "id": "bVnSUoiZ_J7k",
        "colab_type": "code",
        "outputId": "dd539bf2-5149-4939-8d47-0470d4afd610",
        "colab": {
          "base_uri": "https://localhost:8080/",
          "height": 297
        }
      },
      "source": [
        "fig = plt.hist(clicks, bins=13, color='blue', edgecolor=None, alpha=0.5)\n",
        "plt.axvline(clicks.mean(), color='k', linestyle='--', linewidth=2)\n",
        "plt.title('Распределение кликов по рекламе в ленте')\n",
        "plt.tight_layout()"
      ],
      "execution_count": 0,
      "outputs": [
        {
          "output_type": "display_data",
          "data": {
            "image/png": "[encoded data removed]",
            "text/plain": [
              "<Figure size 432x288 with 1 Axes>"
            ]
          },
          "metadata": {
            "tags": []
          }
        }
      ]
    },
    {
      "cell_type": "code",
      "metadata": {
        "id": "nWnYzR9u_MR_",
        "colab_type": "code",
        "colab": {}
      },
      "source": [
        "# Возьмем 1% от нашей генеральной совокупности \n",
        "sample_size = int(round(len(clicks)*1/100, 0))\n",
        "clicks_sample = np.random.choice(clicks, sample_size, replace=False)"
      ],
      "execution_count": 0,
      "outputs": []
    },
    {
      "cell_type": "code",
      "metadata": {
        "id": "17x3CPGOEbUs",
        "colab_type": "code",
        "outputId": "974bd151-1295-40c9-a863-74e328678cd1",
        "colab": {
          "base_uri": "https://localhost:8080/",
          "height": 34
        }
      },
      "source": [
        "len(clicks_sample)"
      ],
      "execution_count": 0,
      "outputs": [
        {
          "output_type": "execute_result",
          "data": {
            "text/plain": [
              "100000"
            ]
          },
          "metadata": {
            "tags": []
          },
          "execution_count": 76
        }
      ]
    },
    {
      "cell_type": "code",
      "metadata": {
        "id": "SgbvtR1KFR7l",
        "colab_type": "code",
        "outputId": "f26451e4-ced2-4ca1-f5a8-ba7a446a144d",
        "colab": {
          "base_uri": "https://localhost:8080/",
          "height": 297
        }
      },
      "source": [
        "fig = plt.hist(clicks_sample, bins=10, color='blue', edgecolor=None, alpha=0.3)\n",
        "plt.axvline(clicks_sample.mean(), color='k', linestyle='--', linewidth=2)\n",
        "plt.title('Распределение кликов по рекламе в ленте\\nу 1% случайных пользователей')\n",
        "plt.tight_layout()"
      ],
      "execution_count": 0,
      "outputs": [
        {
          "output_type": "display_data",
          "data": {
            "image/png": "[encoded data removed]",
            "text/plain": [
              "<Figure size 432x288 with 1 Axes>"
            ]
          },
          "metadata": {
            "tags": []
          }
        }
      ]
    },
    {
      "cell_type": "code",
      "metadata": {
        "id": "6sb3QdY8FiJp",
        "colab_type": "code",
        "colab": {}
      },
      "source": [
        "# Разделим полученную выборку на тест и контроль (группы A и B)"
      ],
      "execution_count": 0,
      "outputs": []
    },
    {
      "cell_type": "code",
      "metadata": {
        "id": "e4ufS0aQGfsf",
        "colab_type": "code",
        "colab": {}
      },
      "source": [
        "def partition (list_in, n):\n",
        "    list_in = random.sample(list_in, len(list_in)) \n",
        "    return [list_in[i::n] for i in range(n)]"
      ],
      "execution_count": 0,
      "outputs": []
    },
    {
      "cell_type": "code",
      "metadata": {
        "id": "22eLUO3AGyrO",
        "colab_type": "code",
        "colab": {}
      },
      "source": [
        "control, test = partition(list(clicks_sample), 2)"
      ],
      "execution_count": 0,
      "outputs": []
    },
    {
      "cell_type": "code",
      "metadata": {
        "id": "7NKzzpO2Uxg2",
        "colab_type": "code",
        "outputId": "cc316430-40e9-4c20-d8be-9e4edc1400fa",
        "colab": {
          "base_uri": "https://localhost:8080/",
          "height": 34
        }
      },
      "source": [
        "len(control)"
      ],
      "execution_count": 0,
      "outputs": [
        {
          "output_type": "execute_result",
          "data": {
            "text/plain": [
              "50000"
            ]
          },
          "metadata": {
            "tags": []
          },
          "execution_count": 197
        }
      ]
    },
    {
      "cell_type": "code",
      "metadata": {
        "id": "tb6S7pu8UzqQ",
        "colab_type": "code",
        "outputId": "b09192e3-2299-4af2-8fc4-7fa86a839c95",
        "colab": {
          "base_uri": "https://localhost:8080/",
          "height": 34
        }
      },
      "source": [
        "len(test)"
      ],
      "execution_count": 0,
      "outputs": [
        {
          "output_type": "execute_result",
          "data": {
            "text/plain": [
              "50000"
            ]
          },
          "metadata": {
            "tags": []
          },
          "execution_count": 198
        }
      ]
    },
    {
      "cell_type": "code",
      "metadata": {
        "id": "ESSTNrj6G5sX",
        "colab_type": "code",
        "outputId": "bc3d3948-7c07-4afc-e04f-13b03df30312",
        "colab": {
          "base_uri": "https://localhost:8080/",
          "height": 297
        }
      },
      "source": [
        "fig = plt.hist(test, bins=10, color='green', edgecolor=None, alpha=0.3)\n",
        "plt.axvline(clicks_sample.mean(), color='k', linestyle='--', linewidth=2)\n",
        "plt.title('Распределение кликов по рекламе в ленте в тестовой группе')\n",
        "plt.tight_layout()"
      ],
      "execution_count": 0,
      "outputs": [
        {
          "output_type": "display_data",
          "data": {
            "image/png": "[encoded data removed]",
            "text/plain": [
              "<Figure size 432x288 with 1 Axes>"
            ]
          },
          "metadata": {
            "tags": []
          }
        }
      ]
    },
    {
      "cell_type": "code",
      "metadata": {
        "id": "EJQOJPLxUYz4",
        "colab_type": "code",
        "outputId": "54a4f2db-9a10-4df1-ca2d-0cb4ad877da0",
        "colab": {
          "base_uri": "https://localhost:8080/",
          "height": 34
        }
      },
      "source": [
        "np.mean(test)"
      ],
      "execution_count": 0,
      "outputs": [
        {
          "output_type": "execute_result",
          "data": {
            "text/plain": [
              "0.99844"
            ]
          },
          "metadata": {
            "tags": []
          },
          "execution_count": 200
        }
      ]
    },
    {
      "cell_type": "code",
      "metadata": {
        "id": "yhaRe_1XIdd1",
        "colab_type": "code",
        "outputId": "97315359-2640-4389-879d-a340b8450b67",
        "colab": {
          "base_uri": "https://localhost:8080/",
          "height": 297
        }
      },
      "source": [
        "fig = plt.hist(control, bins=10, color='grey', edgecolor=None, alpha=0.3)\n",
        "plt.axvline(clicks_sample.mean(), color='k', linestyle='--', linewidth=2)\n",
        "plt.title('Распределение кликов по рекламе в ленте в контрольной группе')\n",
        "plt.tight_layout()"
      ],
      "execution_count": 0,
      "outputs": [
        {
          "output_type": "display_data",
          "data": {
            "image/png": "[encoded data removed]",
            "text/plain": [
              "<Figure size 432x288 with 1 Axes>"
            ]
          },
          "metadata": {
            "tags": []
          }
        }
      ]
    },
    {
      "cell_type": "code",
      "metadata": {
        "id": "-ej7OkYDUiA3",
        "colab_type": "code",
        "outputId": "533f7940-8842-408d-ef62-b9ad395c8d5c",
        "colab": {
          "base_uri": "https://localhost:8080/",
          "height": 34
        }
      },
      "source": [
        "np.mean(control)"
      ],
      "execution_count": 0,
      "outputs": [
        {
          "output_type": "execute_result",
          "data": {
            "text/plain": [
              "0.99788"
            ]
          },
          "metadata": {
            "tags": []
          },
          "execution_count": 202
        }
      ]
    },
    {
      "cell_type": "code",
      "metadata": {
        "id": "5ZZ3TQsDXyZI",
        "colab_type": "code",
        "colab": {}
      },
      "source": [
        "users = list(range(1,50001))\n",
        "users = [x+1000000 for x in users]"
      ],
      "execution_count": 0,
      "outputs": []
    },
    {
      "cell_type": "markdown",
      "metadata": {
        "id": "NfsCer10daHD",
        "colab_type": "text"
      },
      "source": [
        "## **Фича 1**\n",
        "\n",
        "*Вставка большего количества рекламы \n",
        "привлекательного формата, например видео*\n",
        "\n",
        "## **Альтернативная гипотеза** \n",
        "\n",
        "Среднее количество кликов в тестовой группе выше, чем среднее количество кликов в контрольной группе\n",
        "\n",
        "## **Нулевая гипотеза**\n",
        "\n",
        "Среднее количество кликов в тестовой группе не отличается от тестового количества кликов в контрольной группе"
      ]
    },
    {
      "cell_type": "code",
      "metadata": {
        "id": "kCRDVx5DWjo1",
        "colab_type": "code",
        "colab": {}
      },
      "source": [
        "# Генерируем датасет будто мы применили нашу фичу к данным \n",
        "hyp_1 = pd.DataFrame({'user': users, 'test': test, 'control': control})"
      ],
      "execution_count": 0,
      "outputs": []
    },
    {
      "cell_type": "code",
      "metadata": {
        "id": "0stYFkLJbabl",
        "colab_type": "code",
        "colab": {}
      },
      "source": [
        "video_uplift = []\n",
        "for _ in range(0, len(hyp_1['test'])):\n",
        "\tvalue = randint(0, 1)\n",
        "\tvideo_uplift.append(value)"
      ],
      "execution_count": 0,
      "outputs": []
    },
    {
      "cell_type": "code",
      "metadata": {
        "id": "qQkvxfNXZFPy",
        "colab_type": "code",
        "colab": {}
      },
      "source": [
        "hyp_1['video_test'] = round(hyp_1['test']*0.6, 0).astype(int) + video_uplift\n",
        "hyp_1['image_test'] = round(hyp_1['test']*0.3, 0).astype(int)\n",
        "hyp_1['lead_form_test'] = round(hyp_1['test']*0.1, 0).astype(int)"
      ],
      "execution_count": 0,
      "outputs": []
    },
    {
      "cell_type": "code",
      "metadata": {
        "id": "7GxeWI9razqh",
        "colab_type": "code",
        "colab": {}
      },
      "source": [
        "hyp_1['video_control'] = round(hyp_1['control']*0.3, 0).astype(int)\n",
        "hyp_1['image_control'] = round(hyp_1['control']*0.6, 0).astype(int)\n",
        "hyp_1['lead_form_control'] = round(hyp_1['control']*0.1, 0).astype(int)"
      ],
      "execution_count": 0,
      "outputs": []
    },
    {
      "cell_type": "code",
      "metadata": {
        "id": "koVrqeQUdLiR",
        "colab_type": "code",
        "colab": {}
      },
      "source": [
        "hyp_1 = hyp_1.drop(['control', 'test'], axis = 1)"
      ],
      "execution_count": 0,
      "outputs": []
    },
    {
      "cell_type": "code",
      "metadata": {
        "id": "TvmAuEsjehI4",
        "colab_type": "code",
        "colab": {}
      },
      "source": [
        "hyp_1['control'] = hyp_1['video_control'] + hyp_1['image_control'] + hyp_1['lead_form_control']\n",
        "hyp_1['test'] = hyp_1['video_test'] + hyp_1['image_test'] + hyp_1['lead_form_test']"
      ],
      "execution_count": 0,
      "outputs": []
    },
    {
      "cell_type": "code",
      "metadata": {
        "id": "RjS0ann_MvO8",
        "colab_type": "code",
        "outputId": "d580e92b-dd72-4a5a-94e6-1d60c501be0c",
        "colab": {
          "base_uri": "https://localhost:8080/",
          "height": 34
        }
      },
      "source": [
        "print('Среднее количество кликов в тестовой группе равно: ' + str(hyp_1['test'].mean()))"
      ],
      "execution_count": 0,
      "outputs": [
        {
          "output_type": "stream",
          "text": [
            "Среднее количество кликов в тестовой группе равно: 1.4857\n"
          ],
          "name": "stdout"
        }
      ]
    },
    {
      "cell_type": "code",
      "metadata": {
        "id": "6KKIOQ7VPyga",
        "colab_type": "code",
        "outputId": "6d215ecd-7bf6-49b9-831b-2b5c6998d004",
        "colab": {
          "base_uri": "https://localhost:8080/",
          "height": 34
        }
      },
      "source": [
        "print('Среднее количество кликов в контрольной группе равно: ' + str(hyp_1['control'].mean()))"
      ],
      "execution_count": 0,
      "outputs": [
        {
          "output_type": "stream",
          "text": [
            "Среднее количество кликов в контрольной группе равно: 0.9833\n"
          ],
          "name": "stdout"
        }
      ]
    },
    {
      "cell_type": "code",
      "metadata": {
        "id": "P-H0Qu8lgxQQ",
        "colab_type": "code",
        "colab": {}
      },
      "source": [
        "# Проверим статистическую значимость результатов при помощи метода bootstrap\n",
        "# Для этого получим распределение средних значений в тестовой группе и найдем доверительный интервал"
      ],
      "execution_count": 0,
      "outputs": []
    },
    {
      "cell_type": "code",
      "metadata": {
        "id": "KrZpttz2QLPy",
        "colab_type": "code",
        "colab": {}
      },
      "source": [
        "sample_mean = []\n",
        "for _ in range(10000):  #so B=10000\n",
        "    sample_n = np.random.choice(hyp_1['test'], size=300)\n",
        "    sample_mean.append(sample_n.mean())"
      ],
      "execution_count": 0,
      "outputs": []
    },
    {
      "cell_type": "code",
      "metadata": {
        "id": "IeeuJZEJgN52",
        "colab_type": "code",
        "outputId": "9c208fdb-7c28-4275-8361-3c5c2aeaa386",
        "colab": {
          "base_uri": "https://localhost:8080/",
          "height": 297
        }
      },
      "source": [
        "fig = plt.hist(sample_mean, bins=10, color='steelblue', edgecolor=None, alpha=0.4)\n",
        "plt.axvline(0, color='k', linestyle='--', linewidth=1)\n",
        "plt.axvline(np.quantile(sample_mean, 0.05), color='steelblue', linestyle='--', linewidth=1)\n",
        "plt.axvline(np.quantile(sample_mean, 0.95), color='steelblue', linestyle='--', linewidth=1)\n",
        "plt.title('Распределение средних в тестовой группе')\n",
        "plt.tight_layout()"
      ],
      "execution_count": 0,
      "outputs": [
        {
          "output_type": "display_data",
          "data": {
            "image/png": "[encoded data removed]",
            "text/plain": [
              "<Figure size 432x288 with 1 Axes>"
            ]
          },
          "metadata": {
            "tags": []
          }
        }
      ]
    },
    {
      "cell_type": "code",
      "metadata": {
        "id": "cBk8uEeth06y",
        "colab_type": "code",
        "outputId": "41d22bed-3bae-43f1-e938-336315b3441f",
        "colab": {
          "base_uri": "https://localhost:8080/",
          "height": 34
        }
      },
      "source": [
        "print('Среднее количество кликов в тестовой группе равно ' + str(hyp_1['test'].mean()) \\\n",
        "      + ' с доверительным интервалом (' + str(round(np.quantile(sample_mean, 0.05), 2)) + ', ' \\\n",
        "      + str(round(np.quantile(sample_mean, 0.95), 2)) + ')')"
      ],
      "execution_count": 0,
      "outputs": [
        {
          "output_type": "stream",
          "text": [
            "Среднее количество кликов в тестовой группе равно 1.4857 с доверительным интервалом (1.39, 1.59)\n"
          ],
          "name": "stdout"
        }
      ]
    },
    {
      "cell_type": "code",
      "metadata": {
        "id": "fT_8FB4LkGnr",
        "colab_type": "code",
        "outputId": "8e9a5b50-491d-478a-b28e-5e09952f3879",
        "colab": {
          "base_uri": "https://localhost:8080/",
          "height": 297
        }
      },
      "source": [
        "plt.hist(hyp_1['video_test'], bins=4, color='pink', edgecolor=None, alpha=0.4, label='video')\n",
        "plt.hist(hyp_1['image_test'], bins=4, color='green', edgecolor=None, alpha=0.4, label='image')\n",
        "plt.hist(hyp_1['lead_form_test'], bins=4, color='blue', edgecolor=None, alpha=0.4, label='lead_form')\n",
        "plt.axvline(hyp_1['video_test'].mean(), color='pink', linestyle='-', linewidth=2)\n",
        "plt.axvline(hyp_1['image_test'].mean(), color='green', linestyle='-', linewidth=2)\n",
        "plt.axvline(hyp_1['lead_form_test'].mean(), color='blue', linestyle='-', linewidth=2)\n",
        "plt.axvline(hyp_1['test'].mean(), color='k', linestyle=':', linewidth=3)\n",
        "plt.title('Распределение кликов по рекламе в ленте в тестовой группе\\nс видео форматом в начале ленты (гипотеза 1)')\n",
        "plt.legend(loc=\"upper right\")\n",
        "plt.tight_layout()"
      ],
      "execution_count": 0,
      "outputs": [
        {
          "output_type": "display_data",
          "data": {
            "image/png": "[encoded data removed]",
            "text/plain": [
              "<Figure size 432x288 with 1 Axes>"
            ]
          },
          "metadata": {
            "tags": []
          }
        }
      ]
    },
    {
      "cell_type": "markdown",
      "metadata": {
        "id": "rQma3o6QlDL1",
        "colab_type": "text"
      },
      "source": [
        "### Будем применять изменения на всех пользователей?"
      ]
    },
    {
      "cell_type": "code",
      "metadata": {
        "id": "4brq5ZjClN5x",
        "colab_type": "code",
        "colab": {}
      },
      "source": [
        ""
      ],
      "execution_count": 0,
      "outputs": []
    }
  ]
}